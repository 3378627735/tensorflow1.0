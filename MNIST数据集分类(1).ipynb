{
 "cells": [
  {
   "cell_type": "code",
   "execution_count": 2,
   "id": "354e9ba5",
   "metadata": {},
   "outputs": [],
   "source": [
    "import tensorflow as tf\n",
    "#引入一个工具包\n",
    "from tensorflow.examples.tutorials.mnist import input_data"
   ]
  },
  {
   "cell_type": "code",
   "execution_count": 4,
   "id": "fbf1eb19",
   "metadata": {
    "scrolled": true
   },
   "outputs": [
    {
     "name": "stdout",
     "output_type": "stream",
     "text": [
      "Extracting MNIST_data\\train-images-idx3-ubyte.gz\n",
      "Extracting MNIST_data\\train-labels-idx1-ubyte.gz\n",
      "Extracting MNIST_data\\t10k-images-idx3-ubyte.gz\n",
      "Extracting MNIST_data\\t10k-labels-idx1-ubyte.gz\n",
      "Iter 0 Testing Accuracy: 0.8302\n",
      "Iter 1 Testing Accuracy: 0.8707\n",
      "Iter 2 Testing Accuracy: 0.8809\n",
      "Iter 3 Testing Accuracy: 0.8881\n",
      "Iter 4 Testing Accuracy: 0.8932\n",
      "Iter 5 Testing Accuracy: 0.8971\n",
      "Iter 6 Testing Accuracy: 0.9001\n",
      "Iter 7 Testing Accuracy: 0.9016\n",
      "Iter 8 Testing Accuracy: 0.9025\n",
      "Iter 9 Testing Accuracy: 0.9057\n",
      "Iter 10 Testing Accuracy: 0.9065\n",
      "Iter 11 Testing Accuracy: 0.9066\n",
      "Iter 12 Testing Accuracy: 0.9088\n",
      "Iter 13 Testing Accuracy: 0.9091\n",
      "Iter 14 Testing Accuracy: 0.9101\n",
      "Iter 15 Testing Accuracy: 0.9111\n",
      "Iter 16 Testing Accuracy: 0.9124\n",
      "Iter 17 Testing Accuracy: 0.9121\n",
      "Iter 18 Testing Accuracy: 0.9131\n",
      "Iter 19 Testing Accuracy: 0.9142\n",
      "Iter 20 Testing Accuracy: 0.9141\n"
     ]
    }
   ],
   "source": [
    "#TensorFlow框架提供了一个函数：read_data_sets，该函数能够实现自动下载的功能。如下所示的程序，就能够自动下载数据集。\n",
    "#第一个参数：表示数据集存放路径\n",
    "#第二个参数one_hot：true表示以独热码形式存取数据集。\n",
    "mnist = input_data.read_data_sets('MNIST_data', one_hot=True)\n",
    "#按批次分来\n",
    "batch_size = 100\n",
    "n_batch = mnist.train.num_examples // batch_size\n",
    "\n",
    "x = tf.placeholder(tf.float32, [None,784])\n",
    "y = tf.placeholder(tf.float32, [None, 10])\n",
    "\n",
    "# 神经网络\n",
    "W = tf.Variable(tf.zeros([784,10]))\n",
    "b = tf.Variable(tf.zeros([1, 10]))\n",
    "output = tf.nn.softmax(tf.matmul(x,W) + b)\n",
    "\n",
    "# 定义loss\n",
    "loss = tf.reduce_mean(tf.square(y-output))\n",
    "\n",
    "# 梯度下降\n",
    "train_step = tf.train.GradientDescentOptimizer(0.2).minimize(loss)\n",
    "\n",
    "init = tf.global_variables_initializer()\n",
    "\n",
    "# 创建一个bool列表\n",
    "correct = tf.equal(tf.argmax(y,1), tf.argmax(output,1)) #argmax 返回一维张量中最大值索引\n",
    "\n",
    "# 求准确率\n",
    "accuracy = tf.reduce_mean(tf.cast(correct,tf.float32)) # 把布尔值转换为浮点型求平均数\n",
    "with tf.Session() as sess:\n",
    "    sess.run(init)\n",
    "    for epoch in range(21):\n",
    "        for batch in range(n_batch):\n",
    "            batch_xs, batch_ys = mnist.train.next_batch(batch_size)\n",
    "            sess.run(train_step, feed_dict={x:batch_xs, y:batch_ys})\n",
    "        acc = sess.run(accuracy, feed_dict={x:mnist.test.images,y:mnist.test.labels})\n",
    "        print(\"Iter \" + str(epoch) + \" Testing Accuracy: \" + str(acc))"
   ]
  },
  {
   "cell_type": "code",
   "execution_count": null,
   "id": "f9202e21",
   "metadata": {},
   "outputs": [],
   "source": []
  }
 ],
 "metadata": {
  "kernelspec": {
   "display_name": "tensorflow",
   "language": "python",
   "name": "tensorflow"
  },
  "language_info": {
   "codemirror_mode": {
    "name": "ipython",
    "version": 3
   },
   "file_extension": ".py",
   "mimetype": "text/x-python",
   "name": "python",
   "nbconvert_exporter": "python",
   "pygments_lexer": "ipython3",
   "version": "3.6.2"
  }
 },
 "nbformat": 4,
 "nbformat_minor": 5
}
