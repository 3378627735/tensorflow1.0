{
 "cells": [
  {
   "cell_type": "code",
   "execution_count": 2,
   "id": "f3cf7cd3",
   "metadata": {},
   "outputs": [],
   "source": [
    "import tensorflow as tf\n",
    "import numpy as np"
   ]
  },
  {
   "cell_type": "code",
   "execution_count": 3,
   "id": "10f111ee",
   "metadata": {
    "scrolled": true
   },
   "outputs": [
    {
     "name": "stdout",
     "output_type": "stream",
     "text": [
      "0 [0.09468443, 0.17535557]\n",
      "20 [0.102324896, 0.19873928]\n",
      "40 [0.10086906, 0.19952874]\n",
      "60 [0.10032487, 0.19982383]\n",
      "80 [0.10012144, 0.19993415]\n",
      "100 [0.100045405, 0.19997537]\n",
      "120 [0.100016974, 0.1999908]\n",
      "140 [0.10000634, 0.19999656]\n",
      "160 [0.10000236, 0.19999872]\n",
      "180 [0.10000088, 0.19999953]\n",
      "200 [0.10000032, 0.19999982]\n",
      "220 [0.10000012, 0.19999993]\n",
      "240 [0.10000012, 0.19999993]\n",
      "260 [0.10000012, 0.19999993]\n",
      "280 [0.10000012, 0.19999993]\n",
      "300 [0.10000012, 0.19999993]\n"
     ]
    }
   ],
   "source": [
    "x_data = np.random.rand(1000)\n",
    "y_data = x_data*0.1 + 0.2\n",
    "k = tf.Variable(0.)\n",
    "b = tf.Variable(0.)\n",
    "y = k*x_data + b\n",
    "\n",
    "loss = tf.reduce_mean(tf.square(y_data - y))\n",
    "optimizer = tf.train.GradientDescentOptimizer(0.35)\n",
    "train = optimizer.minimize(loss)\n",
    "init = tf.global_variables_initializer()\n",
    "with tf.Session() as sess:\n",
    "    sess.run(init)\n",
    "    for step in range(301):\n",
    "        sess.run(train)\n",
    "        if step%20 == 0:\n",
    "            print(step,sess.run([k,b]))"
   ]
  },
  {
   "cell_type": "code",
   "execution_count": null,
   "id": "3bb1fe65",
   "metadata": {},
   "outputs": [],
   "source": []
  },
  {
   "cell_type": "code",
   "execution_count": null,
   "id": "3bcd3943",
   "metadata": {},
   "outputs": [],
   "source": []
  },
  {
   "cell_type": "code",
   "execution_count": null,
   "id": "a544d69a",
   "metadata": {},
   "outputs": [],
   "source": []
  }
 ],
 "metadata": {
  "kernelspec": {
   "display_name": "tensorflow",
   "language": "python",
   "name": "tensorflow"
  },
  "language_info": {
   "codemirror_mode": {
    "name": "ipython",
    "version": 3
   },
   "file_extension": ".py",
   "mimetype": "text/x-python",
   "name": "python",
   "nbconvert_exporter": "python",
   "pygments_lexer": "ipython3",
   "version": "3.6.2"
  }
 },
 "nbformat": 4,
 "nbformat_minor": 5
}
