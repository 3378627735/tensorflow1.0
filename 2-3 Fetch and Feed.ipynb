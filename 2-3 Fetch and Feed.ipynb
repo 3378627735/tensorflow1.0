{
 "cells": [
  {
   "cell_type": "code",
   "execution_count": 14,
   "id": "b0e42c5f",
   "metadata": {},
   "outputs": [],
   "source": [
    "import tensorflow as tf"
   ]
  },
  {
   "cell_type": "code",
   "execution_count": 17,
   "id": "b4419f09",
   "metadata": {},
   "outputs": [
    {
     "name": "stdout",
     "output_type": "stream",
     "text": [
      "[14.]\n"
     ]
    }
   ],
   "source": [
    "point1 = tf.placeholder(tf.float32)\n",
    "point2 = tf.placeholder(tf.float32)\n",
    "op1 = tf.multiply(point1,point2)\n",
    "with tf.Session() as sess:\n",
    "    print(sess.run(op1,feed_dict={point1:[7.],point2:[2.]}))"
   ]
  },
  {
   "cell_type": "code",
   "execution_count": null,
   "id": "36d86632",
   "metadata": {},
   "outputs": [],
   "source": []
  },
  {
   "cell_type": "code",
   "execution_count": null,
   "id": "7758ff33",
   "metadata": {},
   "outputs": [],
   "source": []
  }
 ],
 "metadata": {
  "kernelspec": {
   "display_name": "tensorflow",
   "language": "python",
   "name": "tensorflow"
  },
  "language_info": {
   "codemirror_mode": {
    "name": "ipython",
    "version": 3
   },
   "file_extension": ".py",
   "mimetype": "text/x-python",
   "name": "python",
   "nbconvert_exporter": "python",
   "pygments_lexer": "ipython3",
   "version": "3.6.2"
  }
 },
 "nbformat": 4,
 "nbformat_minor": 5
}
